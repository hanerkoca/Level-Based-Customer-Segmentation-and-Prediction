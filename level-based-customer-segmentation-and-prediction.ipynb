{
 "cells": [
  {
   "cell_type": "markdown",
   "id": "f0a4cf43",
   "metadata": {
    "papermill": {
     "duration": 0.024142,
     "end_time": "2021-12-23T23:42:37.670296",
     "exception": false,
     "start_time": "2021-12-23T23:42:37.646154",
     "status": "completed"
    },
    "tags": []
   },
   "source": [
    "#### *Description:*\n",
    "\n",
    "#### *There is a dataset from a game company, that contains the customers age, country, sex and their processors. Besides that I also have access to the price, that customer already paid for game apps.*\n",
    "\n",
    "#### *Trying a customer segmentation is an aim. And also at the end of the segmentation, we can try a price prediction with an user-input function.*"
   ]
  },
  {
   "cell_type": "markdown",
   "id": "30c54874",
   "metadata": {
    "papermill": {
     "duration": 0.021259,
     "end_time": "2021-12-23T23:42:37.714771",
     "exception": false,
     "start_time": "2021-12-23T23:42:37.693512",
     "status": "completed"
    },
    "tags": []
   },
   "source": [
    "#### Import libraries"
   ]
  },
  {
   "cell_type": "code",
   "execution_count": 1,
   "id": "1ddcc339",
   "metadata": {
    "_cell_guid": "b1076dfc-b9ad-4769-8c92-a6c4dae69d19",
    "_uuid": "8f2839f25d086af736a60e9eeb907d3b93b6e0e5",
    "execution": {
     "iopub.execute_input": "2021-12-23T23:42:37.764297Z",
     "iopub.status.busy": "2021-12-23T23:42:37.762953Z",
     "iopub.status.idle": "2021-12-23T23:42:38.715333Z",
     "shell.execute_reply": "2021-12-23T23:42:38.714072Z",
     "shell.execute_reply.started": "2021-12-23T22:30:46.641142Z"
    },
    "papermill": {
     "duration": 0.979039,
     "end_time": "2021-12-23T23:42:38.715577",
     "exception": false,
     "start_time": "2021-12-23T23:42:37.736538",
     "status": "completed"
    },
    "tags": []
   },
   "outputs": [],
   "source": [
    "import warnings\n",
    "warnings.filterwarnings('ignore')\n",
    "import pandas as pd\n",
    "import seaborn as sns"
   ]
  },
  {
   "cell_type": "markdown",
   "id": "2a9ac5f2",
   "metadata": {
    "papermill": {
     "duration": 0.021598,
     "end_time": "2021-12-23T23:42:38.764208",
     "exception": false,
     "start_time": "2021-12-23T23:42:38.742610",
     "status": "completed"
    },
    "tags": []
   },
   "source": [
    "#### Get the dataset and check what there is... "
   ]
  },
  {
   "cell_type": "code",
   "execution_count": 2,
   "id": "28d147b5",
   "metadata": {
    "execution": {
     "iopub.execute_input": "2021-12-23T23:42:38.814259Z",
     "iopub.status.busy": "2021-12-23T23:42:38.813557Z",
     "iopub.status.idle": "2021-12-23T23:42:38.850829Z",
     "shell.execute_reply": "2021-12-23T23:42:38.850172Z",
     "shell.execute_reply.started": "2021-12-23T22:30:36.765992Z"
    },
    "papermill": {
     "duration": 0.064532,
     "end_time": "2021-12-23T23:42:38.850968",
     "exception": false,
     "start_time": "2021-12-23T23:42:38.786436",
     "status": "completed"
    },
    "tags": []
   },
   "outputs": [
    {
     "name": "stdout",
     "output_type": "stream",
     "text": [
      "/kaggle/input/persona-data/persona.csv\n"
     ]
    }
   ],
   "source": [
    "import os\n",
    "for dirname, _, filenames in os.walk('/kaggle/input'):\n",
    "    for filename in filenames:\n",
    "        print(os.path.join(dirname, filename))"
   ]
  },
  {
   "cell_type": "code",
   "execution_count": 3,
   "id": "b33f1523",
   "metadata": {
    "execution": {
     "iopub.execute_input": "2021-12-23T23:42:38.898723Z",
     "iopub.status.busy": "2021-12-23T23:42:38.898037Z",
     "iopub.status.idle": "2021-12-23T23:42:38.925948Z",
     "shell.execute_reply": "2021-12-23T23:42:38.926609Z",
     "shell.execute_reply.started": "2021-12-23T22:30:59.623539Z"
    },
    "papermill": {
     "duration": 0.054032,
     "end_time": "2021-12-23T23:42:38.926781",
     "exception": false,
     "start_time": "2021-12-23T23:42:38.872749",
     "status": "completed"
    },
    "tags": []
   },
   "outputs": [],
   "source": [
    "df_ = pd.read_csv(\"../input/persona-data/persona.csv\")\n",
    "df = df_.copy()"
   ]
  },
  {
   "cell_type": "code",
   "execution_count": 4,
   "id": "82cd488c",
   "metadata": {
    "execution": {
     "iopub.execute_input": "2021-12-23T23:42:38.982251Z",
     "iopub.status.busy": "2021-12-23T23:42:38.981574Z",
     "iopub.status.idle": "2021-12-23T23:42:39.007616Z",
     "shell.execute_reply": "2021-12-23T23:42:39.008312Z",
     "shell.execute_reply.started": "2021-12-23T22:31:05.814512Z"
    },
    "papermill": {
     "duration": 0.060592,
     "end_time": "2021-12-23T23:42:39.008758",
     "exception": false,
     "start_time": "2021-12-23T23:42:38.948166",
     "status": "completed"
    },
    "tags": []
   },
   "outputs": [
    {
     "name": "stdout",
     "output_type": "stream",
     "text": [
      "######################## Shape ########################\n",
      "\n",
      "(5000, 5)\n",
      "######################## Types ########################\n",
      "\n",
      "PRICE       int64\n",
      "SOURCE     object\n",
      "SEX        object\n",
      "COUNTRY    object\n",
      "AGE         int64\n",
      "dtype: object\n",
      "######################## Head ########################\n",
      "\n",
      "   PRICE   SOURCE   SEX COUNTRY  AGE\n",
      "0     39  android  male     bra   17\n",
      "1     39  android  male     bra   17\n",
      "2     49  android  male     bra   17\n",
      "3     29  android  male     tur   17\n",
      "4     49  android  male     tur   17\n",
      "######################## Tail ########################\n",
      "\n",
      "      PRICE   SOURCE     SEX COUNTRY  AGE\n",
      "4997     29  android  female     bra   31\n",
      "4998     39  android  female     bra   31\n",
      "4999     29  android  female     bra   31\n",
      "######################## NA ########################\n",
      "\n",
      "PRICE      0\n",
      "SOURCE     0\n",
      "SEX        0\n",
      "COUNTRY    0\n",
      "AGE        0\n",
      "dtype: int64\n",
      "\n",
      "\n",
      "######################## Quantiles ########################\n",
      "\n",
      "       0.00  0.05  0.50  0.95  0.99  1.00\n",
      "PRICE   9.0  19.0  39.0  49.0  59.0  59.0\n",
      "AGE    15.0  15.0  21.0  43.0  53.0  66.0\n"
     ]
    }
   ],
   "source": [
    "def check_df(dataframe, head=5, tail=3):\n",
    "    print(\"######################## Shape ########################\\n\")\n",
    "    print(dataframe.shape)\n",
    "    print(\"######################## Types ########################\\n\")\n",
    "    print(dataframe.dtypes)\n",
    "    print(\"######################## Head ########################\\n\")\n",
    "    print(dataframe.head(head))\n",
    "    print(\"######################## Tail ########################\\n\")\n",
    "    print(dataframe.tail(tail))\n",
    "    print(\"######################## NA ########################\\n\")\n",
    "    print(dataframe.isnull().sum())\n",
    "    print(\"\\n\\n######################## Quantiles ########################\\n\")\n",
    "    print(dataframe.quantile([0, 0.05, 0.50, 0.95, 0.99, 1]).T)\n",
    "\n",
    "check_df(df)"
   ]
  },
  {
   "cell_type": "markdown",
   "id": "18305884",
   "metadata": {
    "papermill": {
     "duration": 0.02211,
     "end_time": "2021-12-23T23:42:39.054952",
     "exception": false,
     "start_time": "2021-12-23T23:42:39.032842",
     "status": "completed"
    },
    "tags": []
   },
   "source": [
    "#### Let's check the mean price by country, source, sex, age breakdown."
   ]
  },
  {
   "cell_type": "code",
   "execution_count": 5,
   "id": "8d55ccb7",
   "metadata": {
    "execution": {
     "iopub.execute_input": "2021-12-23T23:42:39.101583Z",
     "iopub.status.busy": "2021-12-23T23:42:39.100949Z",
     "iopub.status.idle": "2021-12-23T23:42:39.127114Z",
     "shell.execute_reply": "2021-12-23T23:42:39.127704Z",
     "shell.execute_reply.started": "2021-12-23T22:31:09.592044Z"
    },
    "papermill": {
     "duration": 0.050654,
     "end_time": "2021-12-23T23:42:39.127862",
     "exception": false,
     "start_time": "2021-12-23T23:42:39.077208",
     "status": "completed"
    },
    "tags": []
   },
   "outputs": [
    {
     "data": {
      "text/plain": [
       "COUNTRY  SOURCE   SEX     AGE\n",
       "bra      android  male    46     59.0\n",
       "usa      android  male    36     59.0\n",
       "fra      android  female  24     59.0\n",
       "usa      ios      male    32     54.0\n",
       "deu      android  female  36     49.0\n",
       "                                 ... \n",
       "usa      ios      female  38     19.0\n",
       "                          30     19.0\n",
       "can      android  female  27     19.0\n",
       "fra      android  male    18     19.0\n",
       "deu      android  male    26      9.0\n",
       "Name: PRICE, Length: 348, dtype: float64"
      ]
     },
     "execution_count": 5,
     "metadata": {},
     "output_type": "execute_result"
    }
   ],
   "source": [
    "df.groupby([\"COUNTRY\",\"SOURCE\", \"SEX\", \"AGE\"])[\"PRICE\"].mean().sort_values(ascending = False)"
   ]
  },
  {
   "cell_type": "markdown",
   "id": "fdb7635b",
   "metadata": {
    "papermill": {
     "duration": 0.021651,
     "end_time": "2021-12-23T23:42:39.171056",
     "exception": false,
     "start_time": "2021-12-23T23:42:39.149405",
     "status": "completed"
    },
    "tags": []
   },
   "source": [
    "#### Reset index and check the new df."
   ]
  },
  {
   "cell_type": "code",
   "execution_count": 6,
   "id": "94665219",
   "metadata": {
    "execution": {
     "iopub.execute_input": "2021-12-23T23:42:39.217836Z",
     "iopub.status.busy": "2021-12-23T23:42:39.217228Z",
     "iopub.status.idle": "2021-12-23T23:42:39.238002Z",
     "shell.execute_reply": "2021-12-23T23:42:39.238610Z",
     "shell.execute_reply.started": "2021-12-23T23:00:06.438618Z"
    },
    "papermill": {
     "duration": 0.04599,
     "end_time": "2021-12-23T23:42:39.238779",
     "exception": false,
     "start_time": "2021-12-23T23:42:39.192789",
     "status": "completed"
    },
    "tags": []
   },
   "outputs": [
    {
     "data": {
      "text/html": [
       "<div>\n",
       "<style scoped>\n",
       "    .dataframe tbody tr th:only-of-type {\n",
       "        vertical-align: middle;\n",
       "    }\n",
       "\n",
       "    .dataframe tbody tr th {\n",
       "        vertical-align: top;\n",
       "    }\n",
       "\n",
       "    .dataframe thead th {\n",
       "        text-align: right;\n",
       "    }\n",
       "</style>\n",
       "<table border=\"1\" class=\"dataframe\">\n",
       "  <thead>\n",
       "    <tr style=\"text-align: right;\">\n",
       "      <th></th>\n",
       "      <th>COUNTRY</th>\n",
       "      <th>SOURCE</th>\n",
       "      <th>SEX</th>\n",
       "      <th>AGE</th>\n",
       "      <th>PRICE</th>\n",
       "    </tr>\n",
       "  </thead>\n",
       "  <tbody>\n",
       "    <tr>\n",
       "      <th>0</th>\n",
       "      <td>bra</td>\n",
       "      <td>android</td>\n",
       "      <td>male</td>\n",
       "      <td>46</td>\n",
       "      <td>59.0</td>\n",
       "    </tr>\n",
       "    <tr>\n",
       "      <th>1</th>\n",
       "      <td>usa</td>\n",
       "      <td>android</td>\n",
       "      <td>male</td>\n",
       "      <td>36</td>\n",
       "      <td>59.0</td>\n",
       "    </tr>\n",
       "    <tr>\n",
       "      <th>2</th>\n",
       "      <td>fra</td>\n",
       "      <td>android</td>\n",
       "      <td>female</td>\n",
       "      <td>24</td>\n",
       "      <td>59.0</td>\n",
       "    </tr>\n",
       "    <tr>\n",
       "      <th>3</th>\n",
       "      <td>usa</td>\n",
       "      <td>ios</td>\n",
       "      <td>male</td>\n",
       "      <td>32</td>\n",
       "      <td>54.0</td>\n",
       "    </tr>\n",
       "    <tr>\n",
       "      <th>4</th>\n",
       "      <td>deu</td>\n",
       "      <td>android</td>\n",
       "      <td>female</td>\n",
       "      <td>36</td>\n",
       "      <td>49.0</td>\n",
       "    </tr>\n",
       "  </tbody>\n",
       "</table>\n",
       "</div>"
      ],
      "text/plain": [
       "  COUNTRY   SOURCE     SEX  AGE  PRICE\n",
       "0     bra  android    male   46   59.0\n",
       "1     usa  android    male   36   59.0\n",
       "2     fra  android  female   24   59.0\n",
       "3     usa      ios    male   32   54.0\n",
       "4     deu  android  female   36   49.0"
      ]
     },
     "execution_count": 6,
     "metadata": {},
     "output_type": "execute_result"
    }
   ],
   "source": [
    "agg_df = df.groupby([\"COUNTRY\",\"SOURCE\", \"SEX\", \"AGE\"])[\"PRICE\"].mean().sort_values(ascending = False)\n",
    "agg_df = agg_df.reset_index()\n",
    "agg_df.head()"
   ]
  },
  {
   "cell_type": "markdown",
   "id": "fbb574ed",
   "metadata": {
    "papermill": {
     "duration": 0.022714,
     "end_time": "2021-12-23T23:42:39.284371",
     "exception": false,
     "start_time": "2021-12-23T23:42:39.261657",
     "status": "completed"
    },
    "tags": []
   },
   "source": [
    "#### See how the ages distributed and make new 5 kategories of ages."
   ]
  },
  {
   "cell_type": "code",
   "execution_count": 7,
   "id": "c313bb58",
   "metadata": {
    "execution": {
     "iopub.execute_input": "2021-12-23T23:42:39.334026Z",
     "iopub.status.busy": "2021-12-23T23:42:39.333080Z",
     "iopub.status.idle": "2021-12-23T23:42:39.342171Z",
     "shell.execute_reply": "2021-12-23T23:42:39.342782Z",
     "shell.execute_reply.started": "2021-12-23T22:44:06.416241Z"
    },
    "papermill": {
     "duration": 0.035726,
     "end_time": "2021-12-23T23:42:39.342937",
     "exception": false,
     "start_time": "2021-12-23T23:42:39.307211",
     "status": "completed"
    },
    "tags": []
   },
   "outputs": [
    {
     "data": {
      "text/plain": [
       "15    22\n",
       "16    21\n",
       "17    19\n",
       "19    15\n",
       "21    15\n",
       "18    15\n",
       "24    14\n",
       "26    14\n",
       "20    14\n",
       "23    14\n",
       "25    14\n",
       "22    13\n",
       "27    11\n",
       "31    11\n",
       "32     9\n",
       "28     9\n",
       "34     8\n",
       "30     8\n",
       "42     8\n",
       "33     8\n",
       "Name: AGE, dtype: int64"
      ]
     },
     "execution_count": 7,
     "metadata": {},
     "output_type": "execute_result"
    }
   ],
   "source": [
    "agg_df[\"AGE\"].value_counts().sort_values(ascending=False).head(20)"
   ]
  },
  {
   "cell_type": "code",
   "execution_count": 8,
   "id": "d6c088ae",
   "metadata": {
    "execution": {
     "iopub.execute_input": "2021-12-23T23:42:39.399600Z",
     "iopub.status.busy": "2021-12-23T23:42:39.398841Z",
     "iopub.status.idle": "2021-12-23T23:42:39.401973Z",
     "shell.execute_reply": "2021-12-23T23:42:39.401494Z",
     "shell.execute_reply.started": "2021-12-23T23:00:11.621225Z"
    },
    "papermill": {
     "duration": 0.033061,
     "end_time": "2021-12-23T23:42:39.402117",
     "exception": false,
     "start_time": "2021-12-23T23:42:39.369056",
     "status": "completed"
    },
    "tags": []
   },
   "outputs": [],
   "source": [
    "def age_cat(age):\n",
    "    if age < 19:\n",
    "        return \"0_18\"\n",
    "    elif 19 <= age < 27:\n",
    "        return \"19_26\"\n",
    "    elif 27 <= age < 39:\n",
    "        return \"27_38\"\n",
    "    elif 39 <= age < 51:\n",
    "        return \"39_50\"\n",
    "    elif 51 <= age < 67:\n",
    "        return \"51_66\"\n",
    "    else:\n",
    "        return print(\"Age can be written just between 0 and 66.\")\n",
    "\n",
    "agg_df[\"AGE_CAT\"] = agg_df[\"AGE\"].apply(age_cat)"
   ]
  },
  {
   "cell_type": "code",
   "execution_count": 9,
   "id": "17e5a3a2",
   "metadata": {
    "execution": {
     "iopub.execute_input": "2021-12-23T23:42:39.453929Z",
     "iopub.status.busy": "2021-12-23T23:42:39.451924Z",
     "iopub.status.idle": "2021-12-23T23:42:39.773937Z",
     "shell.execute_reply": "2021-12-23T23:42:39.772679Z",
     "shell.execute_reply.started": "2021-12-23T22:37:19.191592Z"
    },
    "papermill": {
     "duration": 0.34897,
     "end_time": "2021-12-23T23:42:39.774222",
     "exception": true,
     "start_time": "2021-12-23T23:42:39.425252",
     "status": "failed"
    },
    "tags": []
   },
   "outputs": [
    {
     "ename": "NameError",
     "evalue": "name 'plt' is not defined",
     "output_type": "error",
     "traceback": [
      "\u001b[0;31m---------------------------------------------------------------------------\u001b[0m",
      "\u001b[0;31mNameError\u001b[0m                                 Traceback (most recent call last)",
      "\u001b[0;32m/tmp/ipykernel_19/693141693.py\u001b[0m in \u001b[0;36m<module>\u001b[0;34m\u001b[0m\n\u001b[1;32m      1\u001b[0m \u001b[0msns\u001b[0m\u001b[0;34m.\u001b[0m\u001b[0mcountplot\u001b[0m\u001b[0;34m(\u001b[0m\u001b[0mx\u001b[0m\u001b[0;34m=\u001b[0m\u001b[0magg_df\u001b[0m\u001b[0;34m[\u001b[0m\u001b[0;34m\"AGE_CAT\"\u001b[0m\u001b[0;34m]\u001b[0m\u001b[0;34m,\u001b[0m \u001b[0mdata\u001b[0m\u001b[0;34m=\u001b[0m\u001b[0magg_df\u001b[0m\u001b[0;34m)\u001b[0m\u001b[0;34m;\u001b[0m\u001b[0;34m\u001b[0m\u001b[0;34m\u001b[0m\u001b[0m\n\u001b[0;32m----> 2\u001b[0;31m \u001b[0mplt\u001b[0m\u001b[0;34m.\u001b[0m\u001b[0mshow\u001b[0m\u001b[0;34m(\u001b[0m\u001b[0;34m)\u001b[0m\u001b[0;34m\u001b[0m\u001b[0;34m\u001b[0m\u001b[0m\n\u001b[0m",
      "\u001b[0;31mNameError\u001b[0m: name 'plt' is not defined"
     ]
    },
    {
     "data": {
      "image/png": "[encoded data removed]",
      "text/plain": [
       "<Figure size 432x288 with 1 Axes>"
      ]
     },
     "metadata": {
      "needs_background": "light"
     },
     "output_type": "display_data"
    }
   ],
   "source": [
    "sns.countplot(x=agg_df[\"AGE_CAT\"], data=agg_df);\n",
    "plt.show()"
   ]
  },
  {
   "cell_type": "markdown",
   "id": "8d24ac94",
   "metadata": {
    "papermill": {
     "duration": null,
     "end_time": null,
     "exception": null,
     "start_time": null,
     "status": "pending"
    },
    "tags": []
   },
   "source": [
    "#### Add new column for the standardization of customers and get the mean price of age-segments."
   ]
  },
  {
   "cell_type": "code",
   "execution_count": null,
   "id": "7c71eb68",
   "metadata": {
    "execution": {
     "iopub.execute_input": "2021-12-23T23:00:16.494553Z",
     "iopub.status.busy": "2021-12-23T23:00:16.493766Z",
     "iopub.status.idle": "2021-12-23T23:00:16.500666Z",
     "shell.execute_reply": "2021-12-23T23:00:16.499956Z",
     "shell.execute_reply.started": "2021-12-23T23:00:16.494518Z"
    },
    "papermill": {
     "duration": null,
     "end_time": null,
     "exception": null,
     "start_time": null,
     "status": "pending"
    },
    "tags": []
   },
   "outputs": [],
   "source": [
    "agg_df[\"LEVEL_BASED_CUSTOMERS\"] = [(row[0].upper() + \"_\" + row[1].upper() + \"_\" + row[2].upper() + \"_\" + row[5]) for row in agg_df.values]"
   ]
  },
  {
   "cell_type": "code",
   "execution_count": null,
   "id": "569e4932",
   "metadata": {
    "execution": {
     "iopub.execute_input": "2021-12-23T23:01:24.112415Z",
     "iopub.status.busy": "2021-12-23T23:01:24.111702Z",
     "iopub.status.idle": "2021-12-23T23:01:24.126502Z",
     "shell.execute_reply": "2021-12-23T23:01:24.125987Z",
     "shell.execute_reply.started": "2021-12-23T23:01:24.112376Z"
    },
    "papermill": {
     "duration": null,
     "end_time": null,
     "exception": null,
     "start_time": null,
     "status": "pending"
    },
    "tags": []
   },
   "outputs": [],
   "source": [
    "agg_df_clb = agg_df.groupby(\"LEVEL_BASED_CUSTOMERS\")[\"PRICE\"].mean()\n",
    "agg_df_clb = agg_df_clb.reset_index()\n",
    "agg_df_clb.head()"
   ]
  },
  {
   "cell_type": "markdown",
   "id": "bb4a724b",
   "metadata": {
    "papermill": {
     "duration": null,
     "end_time": null,
     "exception": null,
     "start_time": null,
     "status": "pending"
    },
    "tags": []
   },
   "source": [
    "#### And create four Segments that we can easily organize the customers"
   ]
  },
  {
   "cell_type": "code",
   "execution_count": null,
   "id": "b86d511f",
   "metadata": {
    "execution": {
     "iopub.execute_input": "2021-12-23T23:03:44.656326Z",
     "iopub.status.busy": "2021-12-23T23:03:44.655899Z",
     "iopub.status.idle": "2021-12-23T23:03:44.664378Z",
     "shell.execute_reply": "2021-12-23T23:03:44.663668Z",
     "shell.execute_reply.started": "2021-12-23T23:03:44.656295Z"
    },
    "papermill": {
     "duration": null,
     "end_time": null,
     "exception": null,
     "start_time": null,
     "status": "pending"
    },
    "tags": []
   },
   "outputs": [],
   "source": [
    "agg_df_clb[\"SEGMENT\"] = pd.qcut(agg_df_clb[\"PRICE\"], 4, labels = [\"D\", \"C\", \"B\", \"A\"])"
   ]
  },
  {
   "cell_type": "code",
   "execution_count": null,
   "id": "30d525de",
   "metadata": {
    "execution": {
     "iopub.execute_input": "2021-12-23T23:06:50.290386Z",
     "iopub.status.busy": "2021-12-23T23:06:50.290083Z",
     "iopub.status.idle": "2021-12-23T23:06:50.301951Z",
     "shell.execute_reply": "2021-12-23T23:06:50.301051Z",
     "shell.execute_reply.started": "2021-12-23T23:06:50.290353Z"
    },
    "papermill": {
     "duration": null,
     "end_time": null,
     "exception": null,
     "start_time": null,
     "status": "pending"
    },
    "tags": []
   },
   "outputs": [],
   "source": [
    "agg_df_clb.head()"
   ]
  },
  {
   "cell_type": "markdown",
   "id": "0bb56233",
   "metadata": {
    "papermill": {
     "duration": null,
     "end_time": null,
     "exception": null,
     "start_time": null,
     "status": "pending"
    },
    "tags": []
   },
   "source": [
    "#### Let's check quickly the segments and see what the difference is.\n",
    "#### We can say the Segment A is the most important customer group.\n",
    "#### B and C are very similar. It could be also one group here."
   ]
  },
  {
   "cell_type": "code",
   "execution_count": null,
   "id": "628483e5",
   "metadata": {
    "execution": {
     "iopub.execute_input": "2021-12-23T23:07:48.110748Z",
     "iopub.status.busy": "2021-12-23T23:07:48.109974Z",
     "iopub.status.idle": "2021-12-23T23:07:48.12542Z",
     "shell.execute_reply": "2021-12-23T23:07:48.124581Z",
     "shell.execute_reply.started": "2021-12-23T23:07:48.110707Z"
    },
    "papermill": {
     "duration": null,
     "end_time": null,
     "exception": null,
     "start_time": null,
     "status": "pending"
    },
    "tags": []
   },
   "outputs": [],
   "source": [
    "agg_df_clb.groupby([\"SEGMENT\"])[\"PRICE\"].agg([\"min\", \"max\", \"mean\", \"sum\"])"
   ]
  },
  {
   "cell_type": "markdown",
   "id": "7fcb3c1b",
   "metadata": {
    "papermill": {
     "duration": null,
     "end_time": null,
     "exception": null,
     "start_time": null,
     "status": "pending"
    },
    "tags": []
   },
   "source": [
    "#### *Conclusion:*\n",
    "#### *Now we have standardized customers with their mean prices related with age-kategory and also segments.*\n",
    "#### *If we want to know, how much the new customer can pay when he/she comes to the market, then we should create a some prediction funktion.*\n",
    "#### *We need here just our standardized informations, like country, proccessor, gender and age as an input.*"
   ]
  },
  {
   "cell_type": "markdown",
   "id": "81bc8e46",
   "metadata": {
    "papermill": {
     "duration": null,
     "end_time": null,
     "exception": null,
     "start_time": null,
     "status": "pending"
    },
    "tags": []
   },
   "source": [
    "#### Prediction"
   ]
  },
  {
   "cell_type": "code",
   "execution_count": null,
   "id": "8301ba77",
   "metadata": {
    "execution": {
     "iopub.execute_input": "2021-12-23T23:23:30.822324Z",
     "iopub.status.busy": "2021-12-23T23:23:30.822071Z",
     "iopub.status.idle": "2021-12-23T23:23:30.830484Z",
     "shell.execute_reply": "2021-12-23T23:23:30.82938Z",
     "shell.execute_reply.started": "2021-12-23T23:23:30.822298Z"
    },
    "papermill": {
     "duration": null,
     "end_time": null,
     "exception": null,
     "start_time": null,
     "status": "pending"
    },
    "tags": []
   },
   "outputs": [],
   "source": [
    "def new_user():\n",
    "    user = []\n",
    "    COUNTRY = input(\"Plase type first 3 letter of your country.\")\n",
    "    user.append(COUNTRY)\n",
    "    PROCCESSOR = input(\"What is your proccessor? ANDROID / IOS ?\")\n",
    "    user.append(PROCCESSOR)\n",
    "    SEX = input(\"What is your gender? FEMALE / MALE ?\")\n",
    "    user.append(SEX)\n",
    "    AGE = int(input(\"How old are you?\"))\n",
    "    AGE_RANGE = age_cat(AGE)\n",
    "    user.append(AGE_RANGE)\n",
    "    user_print = (user[0].upper() + \"_\" + user[1].upper() + \"_\" + user[2].upper() + \"_\" + user[3])\n",
    "    agg_df_new_user = agg_df_clb.loc[agg_df_clb[\"LEVEL_BASED_CUSTOMERS\"] == user_print, [\"PRICE\",\"SEGMENT\"]][0:1]\n",
    "    print(\"\\n######################################################\")\n",
    "    print(\"User: \" + user_print)\n",
    "    print(\"\\n######################################################\")\n",
    "    print(\"Segment of user: \" + agg_df_new_user.iloc[0,1])\n",
    "    print(\"\\n######################################################\")\n",
    "    print(\"Mean price prediction of user: \" + str(f'{agg_df_new_user.iloc[0,0]:.2f}'))"
   ]
  },
  {
   "cell_type": "markdown",
   "id": "680b5c47",
   "metadata": {
    "papermill": {
     "duration": null,
     "end_time": null,
     "exception": null,
     "start_time": null,
     "status": "pending"
    },
    "tags": []
   },
   "source": [
    "#### Some examples..."
   ]
  },
  {
   "cell_type": "code",
   "execution_count": null,
   "id": "f1835a7c",
   "metadata": {
    "execution": {
     "iopub.execute_input": "2021-12-23T23:40:17.160963Z",
     "iopub.status.busy": "2021-12-23T23:40:17.160205Z",
     "iopub.status.idle": "2021-12-23T23:40:28.349506Z",
     "shell.execute_reply": "2021-12-23T23:40:28.348655Z",
     "shell.execute_reply.started": "2021-12-23T23:40:17.160896Z"
    },
    "papermill": {
     "duration": null,
     "end_time": null,
     "exception": null,
     "start_time": null,
     "status": "pending"
    },
    "tags": []
   },
   "outputs": [],
   "source": [
    "new_user()\n",
    "\n",
    "#Inputs:\n",
    "\n",
    "#Plase type first 3 letter of your country. bra\n",
    "#What is your proccessor? ANDROID / IOS ? ios\n",
    "#What is your gender? FEMALE / MALE ? male\n",
    "#How old are you? 32\n",
    "\n",
    "#Outputs:\n",
    "\n",
    "######################################################\n",
    "#User: BRA_IOS_MALE_27_38\n",
    "\n",
    "######################################################\n",
    "#Segment of user: D\n",
    "\n",
    "######################################################\n",
    "#Mean price prediction of user: 31.57"
   ]
  },
  {
   "cell_type": "code",
   "execution_count": null,
   "id": "78243d06",
   "metadata": {
    "execution": {
     "iopub.execute_input": "2021-12-23T23:41:15.773498Z",
     "iopub.status.busy": "2021-12-23T23:41:15.772903Z",
     "iopub.status.idle": "2021-12-23T23:41:28.481102Z",
     "shell.execute_reply": "2021-12-23T23:41:28.480033Z",
     "shell.execute_reply.started": "2021-12-23T23:41:15.773446Z"
    },
    "papermill": {
     "duration": null,
     "end_time": null,
     "exception": null,
     "start_time": null,
     "status": "pending"
    },
    "tags": []
   },
   "outputs": [],
   "source": [
    "new_user()\n",
    "\n",
    "#Inputs:\n",
    "\n",
    "#Plase type first 3 letter of your country. can\n",
    "#What is your proccessor? ANDROID / IOS ? ANDROID\n",
    "#What is your gender? FEMALE / MALE ? female\n",
    "#How old are you? 19\n",
    "\n",
    "#Outputs:\n",
    "    \n",
    "######################################################\n",
    "#User: CAN_ANDROID_FEMALE_19_26\n",
    "\n",
    "######################################################\n",
    "#Segment of user: C\n",
    "\n",
    "######################################################\n",
    "#Mean price prediction of user: 32.01"
   ]
  },
  {
   "cell_type": "code",
   "execution_count": null,
   "id": "31ae9a15",
   "metadata": {
    "papermill": {
     "duration": null,
     "end_time": null,
     "exception": null,
     "start_time": null,
     "status": "pending"
    },
    "tags": []
   },
   "outputs": [],
   "source": []
  }
 ],
 "metadata": {
  "kernelspec": {
   "display_name": "Python 3",
   "language": "python",
   "name": "python3"
  },
  "language_info": {
   "codemirror_mode": {
    "name": "ipython",
    "version": 3
   },
   "file_extension": ".py",
   "mimetype": "text/x-python",
   "name": "python",
   "nbconvert_exporter": "python",
   "pygments_lexer": "ipython3",
   "version": "3.7.12"
  },
  "papermill": {
   "default_parameters": {},
   "duration": 12.137042,
   "end_time": "2021-12-23T23:42:40.410258",
   "environment_variables": {},
   "exception": true,
   "input_path": "__notebook__.ipynb",
   "output_path": "__notebook__.ipynb",
   "parameters": {},
   "start_time": "2021-12-23T23:42:28.273216",
   "version": "2.3.3"
  }
 },
 "nbformat": 4,
 "nbformat_minor": 5
}
