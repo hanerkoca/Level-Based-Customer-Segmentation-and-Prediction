{
 "cells": [
  {
   "cell_type": "markdown",
   "id": "2d014b30",
   "metadata": {
    "papermill": {
     "duration": 0.016771,
     "end_time": "2021-12-25T10:53:40.945689",
     "exception": false,
     "start_time": "2021-12-25T10:53:40.928918",
     "status": "completed"
    },
    "tags": []
   },
   "source": [
    "#### *Description:*\n",
    "\n",
    "#### *There is a dataset from a game company, that contains the customers age, country, sex and their processors. Besides that I also have access to the price, that customer already paid for game apps.*\n",
    "\n",
    "#### *Trying a customer segmentation is an aim. And also at the end of the segmentation, we can try a price prediction with an user-input function.*"
   ]
  },
  {
   "cell_type": "markdown",
   "id": "fd59d140",
   "metadata": {
    "papermill": {
     "duration": 0.015066,
     "end_time": "2021-12-25T10:53:40.976738",
     "exception": false,
     "start_time": "2021-12-25T10:53:40.961672",
     "status": "completed"
    },
    "tags": []
   },
   "source": [
    "#### Import libraries"
   ]
  },
  {
   "cell_type": "code",
   "execution_count": 1,
   "id": "3da9c19f",
   "metadata": {
    "_cell_guid": "b1076dfc-b9ad-4769-8c92-a6c4dae69d19",
    "_uuid": "8f2839f25d086af736a60e9eeb907d3b93b6e0e5",
    "execution": {
     "iopub.execute_input": "2021-12-25T10:53:41.013082Z",
     "iopub.status.busy": "2021-12-25T10:53:41.012014Z",
     "iopub.status.idle": "2021-12-25T10:53:41.984538Z",
     "shell.execute_reply": "2021-12-25T10:53:41.983644Z",
     "shell.execute_reply.started": "2021-12-25T10:52:10.178726Z"
    },
    "papermill": {
     "duration": 0.991736,
     "end_time": "2021-12-25T10:53:41.984716",
     "exception": false,
     "start_time": "2021-12-25T10:53:40.992980",
     "status": "completed"
    },
    "tags": []
   },
   "outputs": [],
   "source": [
    "import warnings\n",
    "warnings.filterwarnings('ignore')\n",
    "import pandas as pd\n",
    "import seaborn as sns\n",
    "import matplotlib.pyplot as plt"
   ]
  },
  {
   "cell_type": "markdown",
   "id": "b42dca97",
   "metadata": {
    "papermill": {
     "duration": 0.015495,
     "end_time": "2021-12-25T10:53:42.016032",
     "exception": false,
     "start_time": "2021-12-25T10:53:42.000537",
     "status": "completed"
    },
    "tags": []
   },
   "source": [
    "#### Get the dataset and check what there is... "
   ]
  },
  {
   "cell_type": "code",
   "execution_count": 2,
   "id": "df35538f",
   "metadata": {
    "execution": {
     "iopub.execute_input": "2021-12-25T10:53:42.054367Z",
     "iopub.status.busy": "2021-12-25T10:53:42.053666Z",
     "iopub.status.idle": "2021-12-25T10:53:42.064583Z",
     "shell.execute_reply": "2021-12-25T10:53:42.065228Z",
     "shell.execute_reply.started": "2021-12-25T10:52:10.200780Z"
    },
    "papermill": {
     "duration": 0.033684,
     "end_time": "2021-12-25T10:53:42.065455",
     "exception": false,
     "start_time": "2021-12-25T10:53:42.031771",
     "status": "completed"
    },
    "tags": []
   },
   "outputs": [
    {
     "name": "stdout",
     "output_type": "stream",
     "text": [
      "/kaggle/input/persona-data/persona.csv\n"
     ]
    }
   ],
   "source": [
    "import os\n",
    "for dirname, _, filenames in os.walk('/kaggle/input'):\n",
    "    for filename in filenames:\n",
    "        print(os.path.join(dirname, filename))"
   ]
  },
  {
   "cell_type": "code",
   "execution_count": 3,
   "id": "f1228c7a",
   "metadata": {
    "execution": {
     "iopub.execute_input": "2021-12-25T10:53:42.102265Z",
     "iopub.status.busy": "2021-12-25T10:53:42.101558Z",
     "iopub.status.idle": "2021-12-25T10:53:42.118856Z",
     "shell.execute_reply": "2021-12-25T10:53:42.119377Z",
     "shell.execute_reply.started": "2021-12-25T10:52:10.209910Z"
    },
    "papermill": {
     "duration": 0.03651,
     "end_time": "2021-12-25T10:53:42.119552",
     "exception": false,
     "start_time": "2021-12-25T10:53:42.083042",
     "status": "completed"
    },
    "tags": []
   },
   "outputs": [],
   "source": [
    "df_ = pd.read_csv(\"../input/persona-data/persona.csv\")\n",
    "df = df_.copy()"
   ]
  },
  {
   "cell_type": "code",
   "execution_count": 4,
   "id": "af962bde",
   "metadata": {
    "execution": {
     "iopub.execute_input": "2021-12-25T10:53:42.154289Z",
     "iopub.status.busy": "2021-12-25T10:53:42.153699Z",
     "iopub.status.idle": "2021-12-25T10:53:42.184323Z",
     "shell.execute_reply": "2021-12-25T10:53:42.184750Z",
     "shell.execute_reply.started": "2021-12-25T10:52:10.223234Z"
    },
    "papermill": {
     "duration": 0.049359,
     "end_time": "2021-12-25T10:53:42.184920",
     "exception": false,
     "start_time": "2021-12-25T10:53:42.135561",
     "status": "completed"
    },
    "tags": []
   },
   "outputs": [
    {
     "name": "stdout",
     "output_type": "stream",
     "text": [
      "######################## Shape ########################\n",
      "\n",
      "(5000, 5)\n",
      "######################## Types ########################\n",
      "\n",
      "PRICE       int64\n",
      "SOURCE     object\n",
      "SEX        object\n",
      "COUNTRY    object\n",
      "AGE         int64\n",
      "dtype: object\n",
      "######################## Head ########################\n",
      "\n",
      "   PRICE   SOURCE   SEX COUNTRY  AGE\n",
      "0     39  android  male     bra   17\n",
      "1     39  android  male     bra   17\n",
      "2     49  android  male     bra   17\n",
      "3     29  android  male     tur   17\n",
      "4     49  android  male     tur   17\n",
      "######################## Tail ########################\n",
      "\n",
      "      PRICE   SOURCE     SEX COUNTRY  AGE\n",
      "4997     29  android  female     bra   31\n",
      "4998     39  android  female     bra   31\n",
      "4999     29  android  female     bra   31\n",
      "######################## NA ########################\n",
      "\n",
      "PRICE      0\n",
      "SOURCE     0\n",
      "SEX        0\n",
      "COUNTRY    0\n",
      "AGE        0\n",
      "dtype: int64\n",
      "\n",
      "\n",
      "######################## Quantiles ########################\n",
      "\n",
      "       0.00  0.05  0.50  0.95  0.99  1.00\n",
      "PRICE   9.0  19.0  39.0  49.0  59.0  59.0\n",
      "AGE    15.0  15.0  21.0  43.0  53.0  66.0\n"
     ]
    }
   ],
   "source": [
    "def check_df(dataframe, head=5, tail=3):\n",
    "    print(\"######################## Shape ########################\\n\")\n",
    "    print(dataframe.shape)\n",
    "    print(\"######################## Types ########################\\n\")\n",
    "    print(dataframe.dtypes)\n",
    "    print(\"######################## Head ########################\\n\")\n",
    "    print(dataframe.head(head))\n",
    "    print(\"######################## Tail ########################\\n\")\n",
    "    print(dataframe.tail(tail))\n",
    "    print(\"######################## NA ########################\\n\")\n",
    "    print(dataframe.isnull().sum())\n",
    "    print(\"\\n\\n######################## Quantiles ########################\\n\")\n",
    "    print(dataframe.quantile([0, 0.05, 0.50, 0.95, 0.99, 1]).T)\n",
    "\n",
    "check_df(df)"
   ]
  },
  {
   "cell_type": "markdown",
   "id": "3d124442",
   "metadata": {
    "papermill": {
     "duration": 0.01559,
     "end_time": "2021-12-25T10:53:42.216759",
     "exception": false,
     "start_time": "2021-12-25T10:53:42.201169",
     "status": "completed"
    },
    "tags": []
   },
   "source": [
    "#### Let's check the mean price by country, source, sex, age breakdown."
   ]
  },
  {
   "cell_type": "code",
   "execution_count": 5,
   "id": "085f7886",
   "metadata": {
    "execution": {
     "iopub.execute_input": "2021-12-25T10:53:42.251526Z",
     "iopub.status.busy": "2021-12-25T10:53:42.250918Z",
     "iopub.status.idle": "2021-12-25T10:53:42.274035Z",
     "shell.execute_reply": "2021-12-25T10:53:42.274602Z",
     "shell.execute_reply.started": "2021-12-25T10:52:10.245759Z"
    },
    "papermill": {
     "duration": 0.042186,
     "end_time": "2021-12-25T10:53:42.274763",
     "exception": false,
     "start_time": "2021-12-25T10:53:42.232577",
     "status": "completed"
    },
    "tags": []
   },
   "outputs": [
    {
     "data": {
      "text/plain": [
       "COUNTRY  SOURCE   SEX     AGE\n",
       "bra      android  male    46     59.0\n",
       "usa      android  male    36     59.0\n",
       "fra      android  female  24     59.0\n",
       "usa      ios      male    32     54.0\n",
       "deu      android  female  36     49.0\n",
       "                                 ... \n",
       "usa      ios      female  38     19.0\n",
       "                          30     19.0\n",
       "can      android  female  27     19.0\n",
       "fra      android  male    18     19.0\n",
       "deu      android  male    26      9.0\n",
       "Name: PRICE, Length: 348, dtype: float64"
      ]
     },
     "execution_count": 5,
     "metadata": {},
     "output_type": "execute_result"
    }
   ],
   "source": [
    "df.groupby([\"COUNTRY\",\"SOURCE\", \"SEX\", \"AGE\"])[\"PRICE\"].mean().sort_values(ascending = False)"
   ]
  },
  {
   "cell_type": "markdown",
   "id": "4be3fd24",
   "metadata": {
    "papermill": {
     "duration": 0.016088,
     "end_time": "2021-12-25T10:53:42.307243",
     "exception": false,
     "start_time": "2021-12-25T10:53:42.291155",
     "status": "completed"
    },
    "tags": []
   },
   "source": [
    "#### Reset index and check the new df."
   ]
  },
  {
   "cell_type": "code",
   "execution_count": 6,
   "id": "3a3132d5",
   "metadata": {
    "execution": {
     "iopub.execute_input": "2021-12-25T10:53:42.343177Z",
     "iopub.status.busy": "2021-12-25T10:53:42.342569Z",
     "iopub.status.idle": "2021-12-25T10:53:42.360437Z",
     "shell.execute_reply": "2021-12-25T10:53:42.360932Z",
     "shell.execute_reply.started": "2021-12-25T10:52:10.263206Z"
    },
    "papermill": {
     "duration": 0.037671,
     "end_time": "2021-12-25T10:53:42.361126",
     "exception": false,
     "start_time": "2021-12-25T10:53:42.323455",
     "status": "completed"
    },
    "tags": []
   },
   "outputs": [
    {
     "data": {
      "text/html": [
       "<div>\n",
       "<style scoped>\n",
       "    .dataframe tbody tr th:only-of-type {\n",
       "        vertical-align: middle;\n",
       "    }\n",
       "\n",
       "    .dataframe tbody tr th {\n",
       "        vertical-align: top;\n",
       "    }\n",
       "\n",
       "    .dataframe thead th {\n",
       "        text-align: right;\n",
       "    }\n",
       "</style>\n",
       "<table border=\"1\" class=\"dataframe\">\n",
       "  <thead>\n",
       "    <tr style=\"text-align: right;\">\n",
       "      <th></th>\n",
       "      <th>COUNTRY</th>\n",
       "      <th>SOURCE</th>\n",
       "      <th>SEX</th>\n",
       "      <th>AGE</th>\n",
       "      <th>PRICE</th>\n",
       "    </tr>\n",
       "  </thead>\n",
       "  <tbody>\n",
       "    <tr>\n",
       "      <th>0</th>\n",
       "      <td>bra</td>\n",
       "      <td>android</td>\n",
       "      <td>male</td>\n",
       "      <td>46</td>\n",
       "      <td>59.0</td>\n",
       "    </tr>\n",
       "    <tr>\n",
       "      <th>1</th>\n",
       "      <td>usa</td>\n",
       "      <td>android</td>\n",
       "      <td>male</td>\n",
       "      <td>36</td>\n",
       "      <td>59.0</td>\n",
       "    </tr>\n",
       "    <tr>\n",
       "      <th>2</th>\n",
       "      <td>fra</td>\n",
       "      <td>android</td>\n",
       "      <td>female</td>\n",
       "      <td>24</td>\n",
       "      <td>59.0</td>\n",
       "    </tr>\n",
       "    <tr>\n",
       "      <th>3</th>\n",
       "      <td>usa</td>\n",
       "      <td>ios</td>\n",
       "      <td>male</td>\n",
       "      <td>32</td>\n",
       "      <td>54.0</td>\n",
       "    </tr>\n",
       "    <tr>\n",
       "      <th>4</th>\n",
       "      <td>deu</td>\n",
       "      <td>android</td>\n",
       "      <td>female</td>\n",
       "      <td>36</td>\n",
       "      <td>49.0</td>\n",
       "    </tr>\n",
       "  </tbody>\n",
       "</table>\n",
       "</div>"
      ],
      "text/plain": [
       "  COUNTRY   SOURCE     SEX  AGE  PRICE\n",
       "0     bra  android    male   46   59.0\n",
       "1     usa  android    male   36   59.0\n",
       "2     fra  android  female   24   59.0\n",
       "3     usa      ios    male   32   54.0\n",
       "4     deu  android  female   36   49.0"
      ]
     },
     "execution_count": 6,
     "metadata": {},
     "output_type": "execute_result"
    }
   ],
   "source": [
    "agg_df = df.groupby([\"COUNTRY\",\"SOURCE\", \"SEX\", \"AGE\"])[\"PRICE\"].mean().sort_values(ascending = False)\n",
    "agg_df = agg_df.reset_index()\n",
    "agg_df.head()"
   ]
  },
  {
   "cell_type": "markdown",
   "id": "9dba67af",
   "metadata": {
    "papermill": {
     "duration": 0.017036,
     "end_time": "2021-12-25T10:53:42.395534",
     "exception": false,
     "start_time": "2021-12-25T10:53:42.378498",
     "status": "completed"
    },
    "tags": []
   },
   "source": [
    "#### See how the ages distributed and make new 5 kategories of ages."
   ]
  },
  {
   "cell_type": "code",
   "execution_count": 7,
   "id": "bfb671a5",
   "metadata": {
    "execution": {
     "iopub.execute_input": "2021-12-25T10:53:42.432393Z",
     "iopub.status.busy": "2021-12-25T10:53:42.431814Z",
     "iopub.status.idle": "2021-12-25T10:53:42.439530Z",
     "shell.execute_reply": "2021-12-25T10:53:42.440066Z",
     "shell.execute_reply.started": "2021-12-25T10:52:10.283831Z"
    },
    "papermill": {
     "duration": 0.027997,
     "end_time": "2021-12-25T10:53:42.440258",
     "exception": false,
     "start_time": "2021-12-25T10:53:42.412261",
     "status": "completed"
    },
    "tags": []
   },
   "outputs": [
    {
     "data": {
      "text/plain": [
       "15    22\n",
       "16    21\n",
       "17    19\n",
       "19    15\n",
       "21    15\n",
       "18    15\n",
       "24    14\n",
       "26    14\n",
       "20    14\n",
       "23    14\n",
       "25    14\n",
       "22    13\n",
       "27    11\n",
       "31    11\n",
       "32     9\n",
       "28     9\n",
       "34     8\n",
       "30     8\n",
       "42     8\n",
       "33     8\n",
       "Name: AGE, dtype: int64"
      ]
     },
     "execution_count": 7,
     "metadata": {},
     "output_type": "execute_result"
    }
   ],
   "source": [
    "agg_df[\"AGE\"].value_counts().sort_values(ascending=False).head(20)"
   ]
  },
  {
   "cell_type": "code",
   "execution_count": 8,
   "id": "5cccfe30",
   "metadata": {
    "execution": {
     "iopub.execute_input": "2021-12-25T10:53:42.478226Z",
     "iopub.status.busy": "2021-12-25T10:53:42.477223Z",
     "iopub.status.idle": "2021-12-25T10:53:42.483379Z",
     "shell.execute_reply": "2021-12-25T10:53:42.483801Z",
     "shell.execute_reply.started": "2021-12-25T10:52:10.293457Z"
    },
    "papermill": {
     "duration": 0.02685,
     "end_time": "2021-12-25T10:53:42.483966",
     "exception": false,
     "start_time": "2021-12-25T10:53:42.457116",
     "status": "completed"
    },
    "tags": []
   },
   "outputs": [],
   "source": [
    "def age_cat(age):\n",
    "    if age < 19:\n",
    "        return \"0_18\"\n",
    "    elif 19 <= age < 27:\n",
    "        return \"19_26\"\n",
    "    elif 27 <= age < 39:\n",
    "        return \"27_38\"\n",
    "    elif 39 <= age < 51:\n",
    "        return \"39_50\"\n",
    "    elif 51 <= age < 67:\n",
    "        return \"51_66\"\n",
    "    else:\n",
    "        return print(\"Age can be written just between 0 and 66.\")\n",
    "\n",
    "agg_df[\"AGE_CAT\"] = agg_df[\"AGE\"].apply(age_cat)"
   ]
  },
  {
   "cell_type": "code",
   "execution_count": 9,
   "id": "5e4bb35e",
   "metadata": {
    "execution": {
     "iopub.execute_input": "2021-12-25T10:53:42.524178Z",
     "iopub.status.busy": "2021-12-25T10:53:42.523178Z",
     "iopub.status.idle": "2021-12-25T10:53:42.725729Z",
     "shell.execute_reply": "2021-12-25T10:53:42.725244Z",
     "shell.execute_reply.started": "2021-12-25T10:52:10.304148Z"
    },
    "papermill": {
     "duration": 0.224426,
     "end_time": "2021-12-25T10:53:42.725871",
     "exception": false,
     "start_time": "2021-12-25T10:53:42.501445",
     "status": "completed"
    },
    "tags": []
   },
   "outputs": [
    {
     "data": {
      "image/png": "[encoded data removed]",
      "text/plain": [
       "<Figure size 432x288 with 1 Axes>"
      ]
     },
     "metadata": {
      "needs_background": "light"
     },
     "output_type": "display_data"
    }
   ],
   "source": [
    "sns.countplot(x=agg_df[\"AGE_CAT\"], data=agg_df);\n",
    "plt.show()"
   ]
  },
  {
   "cell_type": "markdown",
   "id": "f60422f2",
   "metadata": {
    "papermill": {
     "duration": 0.01722,
     "end_time": "2021-12-25T10:53:42.760803",
     "exception": false,
     "start_time": "2021-12-25T10:53:42.743583",
     "status": "completed"
    },
    "tags": []
   },
   "source": [
    "#### Add new column for the standardization of customers and get the mean price of age-segments."
   ]
  },
  {
   "cell_type": "code",
   "execution_count": 10,
   "id": "be88ca57",
   "metadata": {
    "execution": {
     "iopub.execute_input": "2021-12-25T10:53:42.803513Z",
     "iopub.status.busy": "2021-12-25T10:53:42.802707Z",
     "iopub.status.idle": "2021-12-25T10:53:42.804888Z",
     "shell.execute_reply": "2021-12-25T10:53:42.805376Z",
     "shell.execute_reply.started": "2021-12-25T10:52:10.426958Z"
    },
    "papermill": {
     "duration": 0.027213,
     "end_time": "2021-12-25T10:53:42.805545",
     "exception": false,
     "start_time": "2021-12-25T10:53:42.778332",
     "status": "completed"
    },
    "tags": []
   },
   "outputs": [],
   "source": [
    "agg_df[\"LEVEL_BASED_CUSTOMERS\"] = [(row[0].upper() + \"_\" + row[1].upper() + \"_\" + row[2].upper() + \"_\" + row[5]) for row in agg_df.values]"
   ]
  },
  {
   "cell_type": "code",
   "execution_count": 11,
   "id": "c26bdaa0",
   "metadata": {
    "execution": {
     "iopub.execute_input": "2021-12-25T10:53:42.844085Z",
     "iopub.status.busy": "2021-12-25T10:53:42.843466Z",
     "iopub.status.idle": "2021-12-25T10:53:42.854148Z",
     "shell.execute_reply": "2021-12-25T10:53:42.854642Z",
     "shell.execute_reply.started": "2021-12-25T10:52:10.437984Z"
    },
    "papermill": {
     "duration": 0.031742,
     "end_time": "2021-12-25T10:53:42.854813",
     "exception": false,
     "start_time": "2021-12-25T10:53:42.823071",
     "status": "completed"
    },
    "tags": []
   },
   "outputs": [
    {
     "data": {
      "text/html": [
       "<div>\n",
       "<style scoped>\n",
       "    .dataframe tbody tr th:only-of-type {\n",
       "        vertical-align: middle;\n",
       "    }\n",
       "\n",
       "    .dataframe tbody tr th {\n",
       "        vertical-align: top;\n",
       "    }\n",
       "\n",
       "    .dataframe thead th {\n",
       "        text-align: right;\n",
       "    }\n",
       "</style>\n",
       "<table border=\"1\" class=\"dataframe\">\n",
       "  <thead>\n",
       "    <tr style=\"text-align: right;\">\n",
       "      <th></th>\n",
       "      <th>LEVEL_BASED_CUSTOMERS</th>\n",
       "      <th>PRICE</th>\n",
       "    </tr>\n",
       "  </thead>\n",
       "  <tbody>\n",
       "    <tr>\n",
       "      <th>0</th>\n",
       "      <td>BRA_ANDROID_FEMALE_0_18</td>\n",
       "      <td>35.645303</td>\n",
       "    </tr>\n",
       "    <tr>\n",
       "      <th>1</th>\n",
       "      <td>BRA_ANDROID_FEMALE_19_26</td>\n",
       "      <td>34.465004</td>\n",
       "    </tr>\n",
       "    <tr>\n",
       "      <th>2</th>\n",
       "      <td>BRA_ANDROID_FEMALE_27_38</td>\n",
       "      <td>33.122694</td>\n",
       "    </tr>\n",
       "    <tr>\n",
       "      <th>3</th>\n",
       "      <td>BRA_ANDROID_FEMALE_39_50</td>\n",
       "      <td>38.237179</td>\n",
       "    </tr>\n",
       "    <tr>\n",
       "      <th>4</th>\n",
       "      <td>BRA_ANDROID_FEMALE_51_66</td>\n",
       "      <td>37.000000</td>\n",
       "    </tr>\n",
       "  </tbody>\n",
       "</table>\n",
       "</div>"
      ],
      "text/plain": [
       "      LEVEL_BASED_CUSTOMERS      PRICE\n",
       "0   BRA_ANDROID_FEMALE_0_18  35.645303\n",
       "1  BRA_ANDROID_FEMALE_19_26  34.465004\n",
       "2  BRA_ANDROID_FEMALE_27_38  33.122694\n",
       "3  BRA_ANDROID_FEMALE_39_50  38.237179\n",
       "4  BRA_ANDROID_FEMALE_51_66  37.000000"
      ]
     },
     "execution_count": 11,
     "metadata": {},
     "output_type": "execute_result"
    }
   ],
   "source": [
    "agg_df_clb = agg_df.groupby(\"LEVEL_BASED_CUSTOMERS\")[\"PRICE\"].mean()\n",
    "agg_df_clb = agg_df_clb.reset_index()\n",
    "agg_df_clb.head()"
   ]
  },
  {
   "cell_type": "markdown",
   "id": "947709ff",
   "metadata": {
    "papermill": {
     "duration": 0.017787,
     "end_time": "2021-12-25T10:53:42.891349",
     "exception": false,
     "start_time": "2021-12-25T10:53:42.873562",
     "status": "completed"
    },
    "tags": []
   },
   "source": [
    "#### And create four Segments that we can easily organize the customers"
   ]
  },
  {
   "cell_type": "code",
   "execution_count": 12,
   "id": "7f60f452",
   "metadata": {
    "execution": {
     "iopub.execute_input": "2021-12-25T10:53:42.930855Z",
     "iopub.status.busy": "2021-12-25T10:53:42.930279Z",
     "iopub.status.idle": "2021-12-25T10:53:42.936128Z",
     "shell.execute_reply": "2021-12-25T10:53:42.936622Z",
     "shell.execute_reply.started": "2021-12-25T10:52:10.461579Z"
    },
    "papermill": {
     "duration": 0.02697,
     "end_time": "2021-12-25T10:53:42.936795",
     "exception": false,
     "start_time": "2021-12-25T10:53:42.909825",
     "status": "completed"
    },
    "tags": []
   },
   "outputs": [],
   "source": [
    "agg_df_clb[\"SEGMENT\"] = pd.qcut(agg_df_clb[\"PRICE\"], 4, labels = [\"D\", \"C\", \"B\", \"A\"])"
   ]
  },
  {
   "cell_type": "code",
   "execution_count": 13,
   "id": "96f39da5",
   "metadata": {
    "execution": {
     "iopub.execute_input": "2021-12-25T10:53:42.975515Z",
     "iopub.status.busy": "2021-12-25T10:53:42.974894Z",
     "iopub.status.idle": "2021-12-25T10:53:42.983727Z",
     "shell.execute_reply": "2021-12-25T10:53:42.984231Z",
     "shell.execute_reply.started": "2021-12-25T10:52:10.470982Z"
    },
    "papermill": {
     "duration": 0.029794,
     "end_time": "2021-12-25T10:53:42.984410",
     "exception": false,
     "start_time": "2021-12-25T10:53:42.954616",
     "status": "completed"
    },
    "tags": []
   },
   "outputs": [
    {
     "data": {
      "text/html": [
       "<div>\n",
       "<style scoped>\n",
       "    .dataframe tbody tr th:only-of-type {\n",
       "        vertical-align: middle;\n",
       "    }\n",
       "\n",
       "    .dataframe tbody tr th {\n",
       "        vertical-align: top;\n",
       "    }\n",
       "\n",
       "    .dataframe thead th {\n",
       "        text-align: right;\n",
       "    }\n",
       "</style>\n",
       "<table border=\"1\" class=\"dataframe\">\n",
       "  <thead>\n",
       "    <tr style=\"text-align: right;\">\n",
       "      <th></th>\n",
       "      <th>LEVEL_BASED_CUSTOMERS</th>\n",
       "      <th>PRICE</th>\n",
       "      <th>SEGMENT</th>\n",
       "    </tr>\n",
       "  </thead>\n",
       "  <tbody>\n",
       "    <tr>\n",
       "      <th>0</th>\n",
       "      <td>BRA_ANDROID_FEMALE_0_18</td>\n",
       "      <td>35.645303</td>\n",
       "      <td>B</td>\n",
       "    </tr>\n",
       "    <tr>\n",
       "      <th>1</th>\n",
       "      <td>BRA_ANDROID_FEMALE_19_26</td>\n",
       "      <td>34.465004</td>\n",
       "      <td>B</td>\n",
       "    </tr>\n",
       "    <tr>\n",
       "      <th>2</th>\n",
       "      <td>BRA_ANDROID_FEMALE_27_38</td>\n",
       "      <td>33.122694</td>\n",
       "      <td>C</td>\n",
       "    </tr>\n",
       "    <tr>\n",
       "      <th>3</th>\n",
       "      <td>BRA_ANDROID_FEMALE_39_50</td>\n",
       "      <td>38.237179</td>\n",
       "      <td>A</td>\n",
       "    </tr>\n",
       "    <tr>\n",
       "      <th>4</th>\n",
       "      <td>BRA_ANDROID_FEMALE_51_66</td>\n",
       "      <td>37.000000</td>\n",
       "      <td>A</td>\n",
       "    </tr>\n",
       "  </tbody>\n",
       "</table>\n",
       "</div>"
      ],
      "text/plain": [
       "      LEVEL_BASED_CUSTOMERS      PRICE SEGMENT\n",
       "0   BRA_ANDROID_FEMALE_0_18  35.645303       B\n",
       "1  BRA_ANDROID_FEMALE_19_26  34.465004       B\n",
       "2  BRA_ANDROID_FEMALE_27_38  33.122694       C\n",
       "3  BRA_ANDROID_FEMALE_39_50  38.237179       A\n",
       "4  BRA_ANDROID_FEMALE_51_66  37.000000       A"
      ]
     },
     "execution_count": 13,
     "metadata": {},
     "output_type": "execute_result"
    }
   ],
   "source": [
    "agg_df_clb.head()"
   ]
  },
  {
   "cell_type": "markdown",
   "id": "9bd6b531",
   "metadata": {
    "papermill": {
     "duration": 0.017834,
     "end_time": "2021-12-25T10:53:43.020837",
     "exception": false,
     "start_time": "2021-12-25T10:53:43.003003",
     "status": "completed"
    },
    "tags": []
   },
   "source": [
    "#### Let's check quickly the segments and see what the difference is.\n",
    "#### We can say the Segment A is the most important customer group.\n",
    "#### B and C are very similar. It could be also one group here."
   ]
  },
  {
   "cell_type": "code",
   "execution_count": 14,
   "id": "eca36736",
   "metadata": {
    "execution": {
     "iopub.execute_input": "2021-12-25T10:53:43.059852Z",
     "iopub.status.busy": "2021-12-25T10:53:43.059263Z",
     "iopub.status.idle": "2021-12-25T10:53:43.073585Z",
     "shell.execute_reply": "2021-12-25T10:53:43.074120Z",
     "shell.execute_reply.started": "2021-12-25T10:52:10.488958Z"
    },
    "papermill": {
     "duration": 0.035516,
     "end_time": "2021-12-25T10:53:43.074295",
     "exception": false,
     "start_time": "2021-12-25T10:53:43.038779",
     "status": "completed"
    },
    "tags": []
   },
   "outputs": [
    {
     "data": {
      "text/html": [
       "<div>\n",
       "<style scoped>\n",
       "    .dataframe tbody tr th:only-of-type {\n",
       "        vertical-align: middle;\n",
       "    }\n",
       "\n",
       "    .dataframe tbody tr th {\n",
       "        vertical-align: top;\n",
       "    }\n",
       "\n",
       "    .dataframe thead th {\n",
       "        text-align: right;\n",
       "    }\n",
       "</style>\n",
       "<table border=\"1\" class=\"dataframe\">\n",
       "  <thead>\n",
       "    <tr style=\"text-align: right;\">\n",
       "      <th></th>\n",
       "      <th>min</th>\n",
       "      <th>max</th>\n",
       "      <th>mean</th>\n",
       "      <th>sum</th>\n",
       "    </tr>\n",
       "    <tr>\n",
       "      <th>SEGMENT</th>\n",
       "      <th></th>\n",
       "      <th></th>\n",
       "      <th></th>\n",
       "      <th></th>\n",
       "    </tr>\n",
       "  </thead>\n",
       "  <tbody>\n",
       "    <tr>\n",
       "      <th>D</th>\n",
       "      <td>19.000000</td>\n",
       "      <td>31.727273</td>\n",
       "      <td>29.651876</td>\n",
       "      <td>770.948789</td>\n",
       "    </tr>\n",
       "    <tr>\n",
       "      <th>C</th>\n",
       "      <td>32.014706</td>\n",
       "      <td>34.185807</td>\n",
       "      <td>33.329709</td>\n",
       "      <td>833.242726</td>\n",
       "    </tr>\n",
       "    <tr>\n",
       "      <th>B</th>\n",
       "      <td>34.351282</td>\n",
       "      <td>36.000000</td>\n",
       "      <td>35.200674</td>\n",
       "      <td>880.016854</td>\n",
       "    </tr>\n",
       "    <tr>\n",
       "      <th>A</th>\n",
       "      <td>36.022593</td>\n",
       "      <td>49.000000</td>\n",
       "      <td>38.791803</td>\n",
       "      <td>1008.586889</td>\n",
       "    </tr>\n",
       "  </tbody>\n",
       "</table>\n",
       "</div>"
      ],
      "text/plain": [
       "               min        max       mean          sum\n",
       "SEGMENT                                              \n",
       "D        19.000000  31.727273  29.651876   770.948789\n",
       "C        32.014706  34.185807  33.329709   833.242726\n",
       "B        34.351282  36.000000  35.200674   880.016854\n",
       "A        36.022593  49.000000  38.791803  1008.586889"
      ]
     },
     "execution_count": 14,
     "metadata": {},
     "output_type": "execute_result"
    }
   ],
   "source": [
    "agg_df_clb.groupby([\"SEGMENT\"])[\"PRICE\"].agg([\"min\", \"max\", \"mean\", \"sum\"])"
   ]
  },
  {
   "cell_type": "markdown",
   "id": "69511467",
   "metadata": {
    "papermill": {
     "duration": 0.018611,
     "end_time": "2021-12-25T10:53:43.111429",
     "exception": false,
     "start_time": "2021-12-25T10:53:43.092818",
     "status": "completed"
    },
    "tags": []
   },
   "source": [
    "#### *Conclusion:*\n",
    "#### *Now we have standardized customers with their mean prices related with age-kategory and also segments.*\n",
    "#### *If we want to know, how much the new customer can pay when he/she comes to the market, then we should create a some prediction funktion.*\n",
    "#### *We need here just our standardized informations, like country, proccessor, gender and age as an input.*"
   ]
  },
  {
   "cell_type": "markdown",
   "id": "caf095ab",
   "metadata": {
    "papermill": {
     "duration": 0.018147,
     "end_time": "2021-12-25T10:53:43.147770",
     "exception": false,
     "start_time": "2021-12-25T10:53:43.129623",
     "status": "completed"
    },
    "tags": []
   },
   "source": [
    "#### Prediction"
   ]
  },
  {
   "cell_type": "code",
   "execution_count": 15,
   "id": "a3dcb752",
   "metadata": {
    "execution": {
     "iopub.execute_input": "2021-12-25T10:53:43.187335Z",
     "iopub.status.busy": "2021-12-25T10:53:43.186741Z",
     "iopub.status.idle": "2021-12-25T10:53:43.193345Z",
     "shell.execute_reply": "2021-12-25T10:53:43.193814Z",
     "shell.execute_reply.started": "2021-12-25T10:52:10.510121Z"
    },
    "papermill": {
     "duration": 0.027888,
     "end_time": "2021-12-25T10:53:43.193972",
     "exception": false,
     "start_time": "2021-12-25T10:53:43.166084",
     "status": "completed"
    },
    "tags": []
   },
   "outputs": [],
   "source": [
    "def new_user():\n",
    "    user = []\n",
    "    COUNTRY = input(\"Plase type first 3 letter of your country.\")\n",
    "    user.append(COUNTRY)\n",
    "    PROCCESSOR = input(\"What is your proccessor? ANDROID / IOS ?\")\n",
    "    user.append(PROCCESSOR)\n",
    "    SEX = input(\"What is your gender? FEMALE / MALE ?\")\n",
    "    user.append(SEX)\n",
    "    AGE = int(input(\"How old are you?\"))\n",
    "    AGE_RANGE = age_cat(AGE)\n",
    "    user.append(AGE_RANGE)\n",
    "    user_print = (user[0].upper() + \"_\" + user[1].upper() + \"_\" + user[2].upper() + \"_\" + user[3])\n",
    "    agg_df_new_user = agg_df_clb.loc[agg_df_clb[\"LEVEL_BASED_CUSTOMERS\"] == user_print, [\"PRICE\",\"SEGMENT\"]][0:1]\n",
    "    print(\"\\n######################################################\")\n",
    "    print(\"User: \" + user_print)\n",
    "    print(\"\\n######################################################\")\n",
    "    print(\"Segment of user: \" + agg_df_new_user.iloc[0,1])\n",
    "    print(\"\\n######################################################\")\n",
    "    print(\"Mean price prediction of user: \" + str(f'{agg_df_new_user.iloc[0,0]:.2f}'))"
   ]
  },
  {
   "cell_type": "markdown",
   "id": "022a88df",
   "metadata": {
    "papermill": {
     "duration": 0.018408,
     "end_time": "2021-12-25T10:53:43.230696",
     "exception": false,
     "start_time": "2021-12-25T10:53:43.212288",
     "status": "completed"
    },
    "tags": []
   },
   "source": [
    "#### Some examples..."
   ]
  },
  {
   "cell_type": "code",
   "execution_count": 16,
   "id": "d1f01b8c",
   "metadata": {
    "execution": {
     "iopub.execute_input": "2021-12-25T10:53:43.271542Z",
     "iopub.status.busy": "2021-12-25T10:53:43.270871Z",
     "iopub.status.idle": "2021-12-25T10:53:43.273950Z",
     "shell.execute_reply": "2021-12-25T10:53:43.274520Z",
     "shell.execute_reply.started": "2021-12-25T10:52:10.517897Z"
    },
    "papermill": {
     "duration": 0.025274,
     "end_time": "2021-12-25T10:53:43.274684",
     "exception": false,
     "start_time": "2021-12-25T10:53:43.249410",
     "status": "completed"
    },
    "tags": []
   },
   "outputs": [],
   "source": [
    "# new_user()\n",
    "\n",
    "#Inputs:\n",
    "\n",
    "#Plase type first 3 letter of your country. bra\n",
    "#What is your proccessor? ANDROID / IOS ? ios\n",
    "#What is your gender? FEMALE / MALE ? male\n",
    "#How old are you? 32\n",
    "\n",
    "#Outputs:\n",
    "\n",
    "######################################################\n",
    "#User: BRA_IOS_MALE_27_38\n",
    "\n",
    "######################################################\n",
    "#Segment of user: D\n",
    "\n",
    "######################################################\n",
    "#Mean price prediction of user: 31.57"
   ]
  },
  {
   "cell_type": "code",
   "execution_count": 17,
   "id": "5f4a5033",
   "metadata": {
    "execution": {
     "iopub.execute_input": "2021-12-25T10:53:43.314698Z",
     "iopub.status.busy": "2021-12-25T10:53:43.314069Z",
     "iopub.status.idle": "2021-12-25T10:53:43.316924Z",
     "shell.execute_reply": "2021-12-25T10:53:43.317475Z",
     "shell.execute_reply.started": "2021-12-25T10:52:10.531474Z"
    },
    "papermill": {
     "duration": 0.024426,
     "end_time": "2021-12-25T10:53:43.317639",
     "exception": false,
     "start_time": "2021-12-25T10:53:43.293213",
     "status": "completed"
    },
    "tags": []
   },
   "outputs": [],
   "source": [
    "# new_user()\n",
    "\n",
    "#Inputs:\n",
    "\n",
    "#Plase type first 3 letter of your country. can\n",
    "#What is your proccessor? ANDROID / IOS ? ANDROID\n",
    "#What is your gender? FEMALE / MALE ? female\n",
    "#How old are you? 19\n",
    "\n",
    "#Outputs:\n",
    "    \n",
    "######################################################\n",
    "#User: CAN_ANDROID_FEMALE_19_26\n",
    "\n",
    "######################################################\n",
    "#Segment of user: C\n",
    "\n",
    "######################################################\n",
    "#Mean price prediction of user: 32.01"
   ]
  },
  {
   "cell_type": "code",
   "execution_count": null,
   "id": "7fd03719",
   "metadata": {
    "papermill": {
     "duration": 0.018316,
     "end_time": "2021-12-25T10:53:43.354369",
     "exception": false,
     "start_time": "2021-12-25T10:53:43.336053",
     "status": "completed"
    },
    "tags": []
   },
   "outputs": [],
   "source": []
  }
 ],
 "metadata": {
  "kernelspec": {
   "display_name": "Python 3",
   "language": "python",
   "name": "python3"
  },
  "language_info": {
   "codemirror_mode": {
    "name": "ipython",
    "version": 3
   },
   "file_extension": ".py",
   "mimetype": "text/x-python",
   "name": "python",
   "nbconvert_exporter": "python",
   "pygments_lexer": "ipython3",
   "version": "3.7.12"
  },
  "papermill": {
   "default_parameters": {},
   "duration": 11.958412,
   "end_time": "2021-12-25T10:53:44.082232",
   "environment_variables": {},
   "exception": null,
   "input_path": "__notebook__.ipynb",
   "output_path": "__notebook__.ipynb",
   "parameters": {},
   "start_time": "2021-12-25T10:53:32.123820",
   "version": "2.3.3"
  }
 },
 "nbformat": 4,
 "nbformat_minor": 5
}
